{
 "cells": [
  {
   "cell_type": "code",
   "execution_count": 2,
   "id": "aaae9ad2-6cda-4b96-8023-5eed65b0afff",
   "metadata": {},
   "outputs": [],
   "source": [
    "from pyspark.sql import SparkSession\n",
    "\n",
    "# Initialize Spark Session\n",
    "spark = SparkSession.builder \\\n",
    "    .appName(\"LocalSparkSQL\") \\\n",
    "    .config(\"spark.sql.shuffle.partitions\", \"4\") \\\n",
    "    .getOrCreate()\n"
   ]
  },
  {
   "cell_type": "code",
   "execution_count": 7,
   "id": "53ec2c0c-4791-4f0d-913c-28c24fe46a50",
   "metadata": {},
   "outputs": [],
   "source": [
    "import pandas as pd\n",
    "import numpy as np"
   ]
  },
  {
   "cell_type": "code",
   "execution_count": 15,
   "id": "f6e6f4c2-cc2f-4c05-8fb0-7cc61401ab9c",
   "metadata": {},
   "outputs": [],
   "source": [
    "df = spark.read.csv(\"mental_health_diagnosis_treatment_.csv\", header=True, inferSchema=True)\n",
    "df.createOrReplaceTempView(\"mental_health\")"
   ]
  },
  {
   "cell_type": "code",
   "execution_count": 21,
   "id": "0e17ac6d-1a30-4e9b-af4a-d7a8e98eb4ee",
   "metadata": {},
   "outputs": [
    {
     "name": "stdout",
     "output_type": "stream",
     "text": [
      "+----------+---+------+--------------------+-----------------------+-----------------+--------------------+----------------------------+----------------+--------------------+--------------------+--------------------------+-------------------+------------+-------------------------+---------------------------+--------------------------+\n",
      "|Patient ID|Age|Gender|           Diagnosis|Symptom Severity (1-10)|Mood Score (1-10)|Sleep Quality (1-10)|Physical Activity (hrs/week)|      Medication|        Therapy Type|Treatment Start Date|Treatment Duration (weeks)|Stress Level (1-10)|     Outcome|Treatment Progress (1-10)|AI-Detected Emotional State|Adherence to Treatment (%)|\n",
      "+----------+---+------+--------------------+-----------------------+-----------------+--------------------+----------------------------+----------------+--------------------+--------------------+--------------------------+-------------------+------------+-------------------------+---------------------------+--------------------------+\n",
      "|         1| 43|Female|Major Depressive ...|                     10|                5|                   8|                           5|Mood Stabilizers|Interpersonal The...|          2024-01-25|                        11|                  9|Deteriorated|                        7|                    Anxious|                        66|\n",
      "|         2| 40|Female|Major Depressive ...|                      9|                5|                   4|                           7|  Antipsychotics|Interpersonal The...|          2024-02-27|                        11|                  7|   No Change|                        7|                    Neutral|                        78|\n",
      "|         3| 55|Female|Major Depressive ...|                      6|                3|                   4|                           3|           SSRIs|Mindfulness-Based...|          2024-03-20|                        14|                  7|Deteriorated|                        5|                      Happy|                        62|\n",
      "|         4| 34|Female|Major Depressive ...|                      6|                3|                   6|                           5|           SSRIs|Mindfulness-Based...|          2024-03-29|                         8|                  8|Deteriorated|                       10|                    Excited|                        72|\n",
      "|         5| 52|  Male|      Panic Disorder|                      7|                6|                   6|                           8|     Anxiolytics|Interpersonal The...|          2024-03-18|                        12|                  5|Deteriorated|                        6|                    Excited|                        63|\n",
      "+----------+---+------+--------------------+-----------------------+-----------------+--------------------+----------------------------+----------------+--------------------+--------------------+--------------------------+-------------------+------------+-------------------------+---------------------------+--------------------------+\n",
      "\n"
     ]
    }
   ],
   "source": [
    "spark.sql(\"select * from mental_health limit 5\").show()"
   ]
  },
  {
   "cell_type": "code",
   "execution_count": 22,
   "id": "0dfa1e2b-d579-4204-9bc5-98c6603b2233",
   "metadata": {},
   "outputs": [],
   "source": [
    "data = spark.sql(\n",
    "    \"\"\"\n",
    "    select\n",
    "    `Patient ID` as patient_id\n",
    "    ,Age as age\n",
    "    ,Gender as gender\n",
    "    ,Diagnosis as diagnosis\n",
    "    ,`Symptom Severity (1-10)` as symptom_severity\n",
    "    ,`Mood Score (1-10)` as mood_score\n",
    "    ,`Sleep Quality (1-10)` as sleep_quality\n",
    "    ,`Physical Activity (hrs/week)` as physical_activity\n",
    "    ,Medication as medication\n",
    "    ,`Therapy Type` as therapy_type\n",
    "    ,`Treatment Start Date` as treatment_start_date\n",
    "    ,`Treatment Duration (weeks)` as treatment_duration\n",
    "    ,`Stress Level (1-10)` as stress_level\n",
    "    ,Outcome as outcome\n",
    "    ,`Treatment Progress (1-10)` as treatment_progress\n",
    "    ,`AI-Detected Emotional State` as ai_detected_emotional_state\n",
    "    ,`Adherence to Treatment (%)` as adherence_to_treatment\n",
    "    from\n",
    "    mental_health\n",
    "    \"\"\"\n",
    ")\n",
    "data.createOrReplaceTempView(\"data\")"
   ]
  },
  {
   "cell_type": "markdown",
   "id": "cbbb5b18-7a25-4e22-98ac-223ae0187a60",
   "metadata": {},
   "source": [
    "# Diagnosis"
   ]
  },
  {
   "cell_type": "code",
   "execution_count": 30,
   "id": "65249eef-eff9-4f5c-955d-d5524036ea38",
   "metadata": {
    "scrolled": true
   },
   "outputs": [
    {
     "name": "stdout",
     "output_type": "stream",
     "text": [
      "+--------------------+--------------+\n",
      "|           diagnosis|total_patients|\n",
      "+--------------------+--------------+\n",
      "|    Bipolar Disorder|           124|\n",
      "| Generalized Anxiety|           135|\n",
      "|Major Depressive ...|           125|\n",
      "|      Panic Disorder|           116|\n",
      "+--------------------+--------------+\n",
      "\n"
     ]
    }
   ],
   "source": [
    "spark.sql(\n",
    "    \"\"\"\n",
    "    select\n",
    "    diagnosis\n",
    "    ,count(patient_id) as total_patients\n",
    "    from data\n",
    "    group by diagnosis\n",
    "    order by diagnosis\n",
    "    \"\"\"\n",
    ").show()"
   ]
  },
  {
   "cell_type": "markdown",
   "id": "93f7449a-cabf-49d1-bcdb-5806f0cd5f58",
   "metadata": {},
   "source": [
    "# Get the stress level of patients belonging to different diagnosis"
   ]
  },
  {
   "cell_type": "code",
   "execution_count": 40,
   "id": "15ca57cf-4fea-4570-a7eb-7ba46d51c4bb",
   "metadata": {},
   "outputs": [
    {
     "name": "stdout",
     "output_type": "stream",
     "text": [
      "+--------------------+---------------------------+------+-----------------------+\n",
      "|           diagnosis|ai_detected_emotional_state|gender|max_stress_on_diagnosis|\n",
      "+--------------------+---------------------------+------+-----------------------+\n",
      "|    Bipolar Disorder|                  Depressed|Female|                    7.5|\n",
      "|    Bipolar Disorder|                    Anxious|Female|                    7.5|\n",
      "|    Bipolar Disorder|                    Excited|Female|                    7.5|\n",
      "|    Bipolar Disorder|                    Neutral|Female|                    7.5|\n",
      "|    Bipolar Disorder|                   Stressed|Female|                    7.5|\n",
      "|    Bipolar Disorder|                      Happy|Female|                    7.5|\n",
      "|    Bipolar Disorder|                    Excited|  Male|               7.671875|\n",
      "|    Bipolar Disorder|                  Depressed|  Male|               7.671875|\n",
      "|    Bipolar Disorder|                    Anxious|  Male|               7.671875|\n",
      "|    Bipolar Disorder|                      Happy|  Male|               7.671875|\n",
      "|    Bipolar Disorder|                   Stressed|  Male|               7.671875|\n",
      "|    Bipolar Disorder|                    Neutral|  Male|               7.671875|\n",
      "| Generalized Anxiety|                    Neutral|Female|      7.507936507936508|\n",
      "| Generalized Anxiety|                  Depressed|Female|      7.507936507936508|\n",
      "| Generalized Anxiety|                      Happy|Female|      7.507936507936508|\n",
      "| Generalized Anxiety|                   Stressed|Female|      7.507936507936508|\n",
      "| Generalized Anxiety|                    Excited|Female|      7.507936507936508|\n",
      "| Generalized Anxiety|                    Anxious|Female|      7.507936507936508|\n",
      "| Generalized Anxiety|                    Anxious|  Male|      7.444444444444445|\n",
      "| Generalized Anxiety|                   Stressed|  Male|      7.444444444444445|\n",
      "| Generalized Anxiety|                      Happy|  Male|      7.444444444444445|\n",
      "| Generalized Anxiety|                    Excited|  Male|      7.444444444444445|\n",
      "| Generalized Anxiety|                    Neutral|  Male|      7.444444444444445|\n",
      "| Generalized Anxiety|                  Depressed|  Male|      7.444444444444445|\n",
      "|Major Depressive ...|                    Anxious|Female|      7.633333333333334|\n",
      "|Major Depressive ...|                    Neutral|Female|      7.633333333333334|\n",
      "|Major Depressive ...|                      Happy|Female|      7.633333333333334|\n",
      "|Major Depressive ...|                    Excited|Female|      7.633333333333334|\n",
      "|Major Depressive ...|                   Stressed|Female|      7.633333333333334|\n",
      "|Major Depressive ...|                  Depressed|Female|      7.633333333333334|\n",
      "|Major Depressive ...|                  Depressed|  Male|      7.384615384615385|\n",
      "|Major Depressive ...|                    Anxious|  Male|      7.384615384615385|\n",
      "|Major Depressive ...|                    Neutral|  Male|      7.384615384615385|\n",
      "|Major Depressive ...|                      Happy|  Male|      7.384615384615385|\n",
      "|Major Depressive ...|                   Stressed|  Male|      7.384615384615385|\n",
      "|Major Depressive ...|                    Excited|  Male|      7.384615384615385|\n",
      "|      Panic Disorder|                  Depressed|Female|      7.686274509803922|\n",
      "|      Panic Disorder|                   Stressed|Female|      7.686274509803922|\n",
      "|      Panic Disorder|                      Happy|Female|      7.686274509803922|\n",
      "|      Panic Disorder|                    Neutral|Female|      7.686274509803922|\n",
      "|      Panic Disorder|                    Anxious|Female|      7.686274509803922|\n",
      "|      Panic Disorder|                    Excited|Female|      7.686274509803922|\n",
      "|      Panic Disorder|                    Excited|  Male|      7.553846153846154|\n",
      "|      Panic Disorder|                   Stressed|  Male|      7.553846153846154|\n",
      "|      Panic Disorder|                      Happy|  Male|      7.553846153846154|\n",
      "|      Panic Disorder|                    Anxious|  Male|      7.553846153846154|\n",
      "|      Panic Disorder|                  Depressed|  Male|      7.553846153846154|\n",
      "|      Panic Disorder|                    Neutral|  Male|      7.553846153846154|\n",
      "+--------------------+---------------------------+------+-----------------------+\n",
      "\n"
     ]
    }
   ],
   "source": [
    "spark.sql(\n",
    "    \"\"\"\n",
    "    select\n",
    "    distinct\n",
    "    diagnosis\n",
    "    ,ai_detected_emotional_state\n",
    "    ,gender\n",
    "    ,avg(stress_level) over (partition by diagnosis, gender) as max_stress_on_diagnosis\n",
    "    from data\n",
    "    \"\"\"\n",
    ").show(n=1000)"
   ]
  },
  {
   "cell_type": "code",
   "execution_count": 37,
   "id": "8e210f0a-29c3-4154-8cee-f6baaa97b509",
   "metadata": {},
   "outputs": [
    {
     "name": "stdout",
     "output_type": "stream",
     "text": [
      "+--------------------+-----------------+\n",
      "|           diagnosis|avg(stress_level)|\n",
      "+--------------------+-----------------+\n",
      "|    Bipolar Disorder|7.588709677419355|\n",
      "| Generalized Anxiety|7.474074074074074|\n",
      "|Major Depressive ...|            7.504|\n",
      "|      Panic Disorder|7.612068965517241|\n",
      "+--------------------+-----------------+\n",
      "\n"
     ]
    }
   ],
   "source": [
    "spark.sql(\n",
    "    \"\"\"\n",
    "    select\n",
    "    distinct\n",
    "    diagnosis\n",
    "    ,avg(stress_level)\n",
    "    from data\n",
    "    group by diagnosis\n",
    "    order by diagnosis\n",
    "    \"\"\"\n",
    ").show(n=1000)"
   ]
  },
  {
   "cell_type": "code",
   "execution_count": null,
   "id": "f0449d03-4a15-4d6d-bdf2-9ec66d658316",
   "metadata": {},
   "outputs": [],
   "source": []
  }
 ],
 "metadata": {
  "kernelspec": {
   "display_name": "Python 3 (ipykernel)",
   "language": "python",
   "name": "python3"
  },
  "language_info": {
   "codemirror_mode": {
    "name": "ipython",
    "version": 3
   },
   "file_extension": ".py",
   "mimetype": "text/x-python",
   "name": "python",
   "nbconvert_exporter": "python",
   "pygments_lexer": "ipython3",
   "version": "3.11.0"
  }
 },
 "nbformat": 4,
 "nbformat_minor": 5
}
