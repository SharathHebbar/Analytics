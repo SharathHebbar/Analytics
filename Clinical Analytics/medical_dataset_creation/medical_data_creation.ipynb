{
 "cells": [
  {
   "cell_type": "code",
   "execution_count": 3,
   "id": "67e119e3",
   "metadata": {},
   "outputs": [
    {
     "data": {
      "text/plain": [
       "0"
      ]
     },
     "execution_count": 3,
     "metadata": {},
     "output_type": "execute_result"
    }
   ],
   "source": [
    "import gc\n",
    "gc.collect()"
   ]
  },
  {
   "cell_type": "code",
   "execution_count": 4,
   "id": "ef0b539f",
   "metadata": {},
   "outputs": [],
   "source": [
    "import warnings\n",
    "warnings.filterwarnings(\"ignore\")\n"
   ]
  },
  {
   "cell_type": "code",
   "execution_count": 5,
   "id": "c74cc39c",
   "metadata": {},
   "outputs": [
    {
     "data": {
      "text/html": [
       "<div>\n",
       "<style scoped>\n",
       "    .dataframe tbody tr th:only-of-type {\n",
       "        vertical-align: middle;\n",
       "    }\n",
       "\n",
       "    .dataframe tbody tr th {\n",
       "        vertical-align: top;\n",
       "    }\n",
       "\n",
       "    .dataframe thead th {\n",
       "        text-align: right;\n",
       "    }\n",
       "</style>\n",
       "<table border=\"1\" class=\"dataframe\">\n",
       "  <thead>\n",
       "    <tr style=\"text-align: right;\">\n",
       "      <th></th>\n",
       "      <th>conversations</th>\n",
       "      <th>disease</th>\n",
       "      <th>gemma_response</th>\n",
       "    </tr>\n",
       "  </thead>\n",
       "  <tbody>\n",
       "    <tr>\n",
       "      <th>0</th>\n",
       "      <td>User: I've been sneezing a lot today and my no...</td>\n",
       "      <td>allergy</td>\n",
       "      <td>allergy</td>\n",
       "    </tr>\n",
       "    <tr>\n",
       "      <th>1</th>\n",
       "      <td>User: I've developed a rash after eating some ...</td>\n",
       "      <td>allergy</td>\n",
       "      <td>allergy</td>\n",
       "    </tr>\n",
       "    <tr>\n",
       "      <th>2</th>\n",
       "      <td>User: My eyes are swollen and itchy, and I can...</td>\n",
       "      <td>allergy</td>\n",
       "      <td>allergy</td>\n",
       "    </tr>\n",
       "    <tr>\n",
       "      <th>3</th>\n",
       "      <td>User: I've been getting headaches and a stuffy...</td>\n",
       "      <td>allergy</td>\n",
       "      <td>allergy</td>\n",
       "    </tr>\n",
       "    <tr>\n",
       "      <th>4</th>\n",
       "      <td>User: Every time I eat nuts, my mouth itches. ...</td>\n",
       "      <td>allergy</td>\n",
       "      <td>food allergy</td>\n",
       "    </tr>\n",
       "  </tbody>\n",
       "</table>\n",
       "</div>"
      ],
      "text/plain": [
       "                                       conversations  disease gemma_response\n",
       "0  User: I've been sneezing a lot today and my no...  allergy        allergy\n",
       "1  User: I've developed a rash after eating some ...  allergy        allergy\n",
       "2  User: My eyes are swollen and itchy, and I can...  allergy        allergy\n",
       "3  User: I've been getting headaches and a stuffy...  allergy        allergy\n",
       "4  User: Every time I eat nuts, my mouth itches. ...  allergy   food allergy"
      ]
     },
     "execution_count": 5,
     "metadata": {},
     "output_type": "execute_result"
    }
   ],
   "source": [
    "import os\n",
    "from openai import OpenAI\n",
    "\n",
    "import json\n",
    "from tqdm import tqdm\n",
    "import pandas as pd\n",
    "\n",
    "model_name = \"medgemma-4b-it\"\n",
    "client = OpenAI(\n",
    "    base_url=\"http://localhost:1234/v1\",\n",
    "    api_key=\"lm-studio\",\n",
    ")\n",
    "\n",
    "\n",
    "df = pd.read_csv(r\"./medical_conversations_with_gemma_response.csv\", encoding=\"utf-8\")\n",
    "df.head()"
   ]
  },
  {
   "cell_type": "code",
   "execution_count": 11,
   "id": "03e9fef2",
   "metadata": {},
   "outputs": [
    {
     "data": {
      "text/plain": [
       "24"
      ]
     },
     "execution_count": 11,
     "metadata": {},
     "output_type": "execute_result"
    }
   ],
   "source": [
    "diseases_list_trimmed = list(df['disease'].unique())\n",
    "len(diseases_list_trimmed)"
   ]
  },
  {
   "cell_type": "code",
   "execution_count": 12,
   "id": "fb94f141",
   "metadata": {},
   "outputs": [
    {
     "data": {
      "text/plain": [
       "['allergy',\n",
       " 'bronchial asthma',\n",
       " 'malaria',\n",
       " 'impetigo',\n",
       " 'varicose veins',\n",
       " 'diabetes',\n",
       " 'drug reaction',\n",
       " 'psoriasis',\n",
       " 'pneumonia',\n",
       " 'jaundice',\n",
       " 'migraine',\n",
       " 'urinary tract infection',\n",
       " 'arthritis',\n",
       " 'peptic ulcer disease',\n",
       " 'cervical spondylosis',\n",
       " 'chicken pox',\n",
       " 'typhoid',\n",
       " 'dimorphic hemorrhoids',\n",
       " 'hypertension',\n",
       " 'gastroesophageal reflux disease',\n",
       " 'acne',\n",
       " 'fungal infection',\n",
       " 'common cold',\n",
       " 'dengue']"
      ]
     },
     "execution_count": 12,
     "metadata": {},
     "output_type": "execute_result"
    }
   ],
   "source": [
    "diseases_list_trimmed"
   ]
  },
  {
   "cell_type": "code",
   "execution_count": 6,
   "id": "3adffccf",
   "metadata": {},
   "outputs": [
    {
     "data": {
      "text/plain": [
       "91"
      ]
     },
     "execution_count": 6,
     "metadata": {},
     "output_type": "execute_result"
    }
   ],
   "source": [
    "diseases_list = list(df['gemma_response'].unique())\n",
    "len(diseases_list)"
   ]
  },
  {
   "cell_type": "code",
   "execution_count": 14,
   "id": "c49074eb",
   "metadata": {},
   "outputs": [],
   "source": [
    "user_input = \"allergy\"\n",
    "system_prompt = f\"\"\"\n",
    "You are an expert in Medical, Healthcare, Pharma Data Creation.\n",
    "Generate a conversation dataset between Doctor and a patient for the given disease by user.\n",
    "The conversation can be anything from generic to advanced topic.\n",
    "Generate the output in JSON format.\n",
    "\n",
    "Example:\n",
    "{\n",
    "    {\"role\": \"doctor\", \"content\": \"Good morning! What brings you in today?\"},\n",
    "    {\"role\": \"patient\", \"content\": \"Hi Doctor, I've been experiencing some persistent cough and shortness of breath for about a week now.\"},\n",
    "    {\"role\": \"doctor\", \"content\": \"Okay. Can you describe the cough? Is it dry or productive?\"},\n",
    "    {\"role\": \"doctor\", \"content\": \"And when did this start?\"}\n",
    "}\n",
    "\n",
    "Note: Generate the output using the above example:\n",
    "\"\"\"\n",
    "\n"
   ]
  },
  {
   "cell_type": "code",
   "execution_count": 33,
   "id": "c1045c64",
   "metadata": {},
   "outputs": [
    {
     "name": "stdout",
     "output_type": "stream",
     "text": [
      "```json\n",
      "[\n",
      "  {\n",
      "    \"role\": \"doctor\",\n",
      "    \"content\": \"Good morning, Mr. Jones. What can I do for you today?\"\n",
      "  },\n",
      "  {\n",
      "    \"role\": \"patient\",\n",
      "    \"content\": \"Hi Doctor, I've been having some strange reactions lately. It started with a rash after eating peanuts.\"\n",
      "  },\n",
      "  {\n",
      "    \"role\": \"doctor\",\n",
      "    \"content\": \"Okay, and what kind of reaction was it? Was it itchy, painful, or something else?\"\n",
      "  },\n",
      "  {\n",
      "    \"role\": \"patient\",\n",
      "    \"content\": \"It was a red, raised rash all over my body. It felt itchy too.\"\n",
      "  },\n",
      "  {\n",
      "    \"role\": \"doctor\",\n",
      "    \"content\": \"Did you experience any other symptoms like difficulty breathing or swelling?\"\n",
      "  },\n",
      "  {\n",
      "    \"role\": \"patient\",\n",
      "    \"content\": \"No, nothing like that. Just the rash and itching.\"\n",
      "  },\n",
      "  {\n",
      "    \"role\": \"doctor\",\n",
      "    \"content\": \"Alright. Have you had this reaction before? And what other foods have you eaten recently?\"\n",
      "  },\n",
      "  {\n",
      "    \"role\": \"patient\",\n",
      "    \"content\": \"No, this is the first time I've reacted to peanuts. I ate a peanut butter sandwich yesterday and then started getting the rash.\"\n",
      "  },\n",
      "  {\n",
      "    \"role\": \"doctor\",\n",
      "    \"content\": \"Okay. Do you have any known allergies besides peanuts? Any family history of allergies?\"\n",
      "  },\n",
      "  {\n",
      "    \"role\": \"patient\",\n",
      "    \"content\": \"No, I don't think so. My parents are healthy and don't have any allergies that I know of.\"\n",
      "  },\n",
      "  {\n",
      "    \"role\": \"doctor\",\n",
      "    \"content\": \"Okay. We need to confirm this is an allergy. I'm going to order some allergy testing for you, including skin prick tests and possibly blood tests. This will help us determine exactly what you are allergic to.\"\n",
      "  },\n",
      "  {\n",
      "    \"role\": \"patient\",\n",
      "    \"content\": \"Okay, that sounds good. When can I get those tests done?\"\n",
      "  },\n",
      "  {\n",
      "    \"role\": \"doctor\",\n",
      "    \"content\": \"I'll schedule them for you first thing tomorrow morning. In the meantime, please avoid all peanuts and peanut products until we have your test results.\"\n",
      "  },\n",
      "  {\n",
      "    \"role\": \"patient\",\n",
      "    \"content\": \"Okay, I will. Thank you, Doctor.\"\n",
      "  },\n",
      "  {\n",
      "    \"role\": \"doctor\",\n",
      "    \"content\": \"You're welcome. Please call the office if you have any questions or concerns before your appointment tomorrow.\"\n",
      "  }\n",
      "]\n",
      "```\n"
     ]
    }
   ],
   "source": [
    "response = client.chat.completions.create(\n",
    "    model=model_name,\n",
    "    messages=[\n",
    "        {\"role\": \"system\", \"content\": system_prompt},\n",
    "        {\"role\": \"user\", \"content\": user_input}\n",
    "    ],\n",
    ")\n",
    "\n",
    "print(response.choices[0].message.content)"
   ]
  },
  {
   "cell_type": "code",
   "execution_count": 34,
   "id": "60a0dd7c",
   "metadata": {},
   "outputs": [
    {
     "data": {
      "text/plain": [
       "'\\n[\\n  {\\n    \"role\": \"doctor\",\\n    \"content\": \"Good morning, Mr. Jones. What can I do for you today?\"\\n  },\\n  {\\n    \"role\": \"patient\",\\n    \"content\": \"Hi Doctor, I\\'ve been having some strange reactions lately. It started with a rash after eating peanuts.\"\\n  },\\n  {\\n    \"role\": \"doctor\",\\n    \"content\": \"Okay, and what kind of reaction was it? Was it itchy, painful, or something else?\"\\n  },\\n  {\\n    \"role\": \"patient\",\\n    \"content\": \"It was a red, raised rash all over my body. It felt itchy too.\"\\n  },\\n  {\\n    \"role\": \"doctor\",\\n    \"content\": \"Did you experience any other symptoms like difficulty breathing or swelling?\"\\n  },\\n  {\\n    \"role\": \"patient\",\\n    \"content\": \"No, nothing like that. Just the rash and itching.\"\\n  },\\n  {\\n    \"role\": \"doctor\",\\n    \"content\": \"Alright. Have you had this reaction before? And what other foods have you eaten recently?\"\\n  },\\n  {\\n    \"role\": \"patient\",\\n    \"content\": \"No, this is the first time I\\'ve reacted to peanuts. I ate a peanut butter sandwich yesterday and then started getting the rash.\"\\n  },\\n  {\\n    \"role\": \"doctor\",\\n    \"content\": \"Okay. Do you have any known allergies besides peanuts? Any family history of allergies?\"\\n  },\\n  {\\n    \"role\": \"patient\",\\n    \"content\": \"No, I don\\'t think so. My parents are healthy and don\\'t have any allergies that I know of.\"\\n  },\\n  {\\n    \"role\": \"doctor\",\\n    \"content\": \"Okay. We need to confirm this is an allergy. I\\'m going to order some allergy testing for you, including skin prick tests and possibly blood tests. This will help us determine exactly what you are allergic to.\"\\n  },\\n  {\\n    \"role\": \"patient\",\\n    \"content\": \"Okay, that sounds good. When can I get those tests done?\"\\n  },\\n  {\\n    \"role\": \"doctor\",\\n    \"content\": \"I\\'ll schedule them for you first thing tomorrow morning. In the meantime, please avoid all peanuts and peanut products until we have your test results.\"\\n  },\\n  {\\n    \"role\": \"patient\",\\n    \"content\": \"Okay, I will. Thank you, Doctor.\"\\n  },\\n  {\\n    \"role\": \"doctor\",\\n    \"content\": \"You\\'re welcome. Please call the office if you have any questions or concerns before your appointment tomorrow.\"\\n  }\\n]\\n'"
      ]
     },
     "execution_count": 34,
     "metadata": {},
     "output_type": "execute_result"
    }
   ],
   "source": [
    "json_op = response.choices[0].message.content\n",
    "json_op_filtered = json_op.replace(\"json\", \"\").replace(\"```\", \"\")\n",
    "json_op_filtered"
   ]
  },
  {
   "cell_type": "code",
   "execution_count": 35,
   "id": "5868ce34",
   "metadata": {},
   "outputs": [
    {
     "data": {
      "text/plain": [
       "2119"
      ]
     },
     "execution_count": 35,
     "metadata": {},
     "output_type": "execute_result"
    }
   ],
   "source": [
    "len(json_op_filtered)"
   ]
  },
  {
   "cell_type": "code",
   "execution_count": 36,
   "id": "65284322",
   "metadata": {},
   "outputs": [
    {
     "data": {
      "text/plain": [
       "[{'role': 'doctor',\n",
       "  'content': 'Good morning, Mr. Jones. What can I do for you today?'},\n",
       " {'role': 'patient',\n",
       "  'content': \"Hi Doctor, I've been having some strange reactions lately. It started with a rash after eating peanuts.\"},\n",
       " {'role': 'doctor',\n",
       "  'content': 'Okay, and what kind of reaction was it? Was it itchy, painful, or something else?'},\n",
       " {'role': 'patient',\n",
       "  'content': 'It was a red, raised rash all over my body. It felt itchy too.'},\n",
       " {'role': 'doctor',\n",
       "  'content': 'Did you experience any other symptoms like difficulty breathing or swelling?'},\n",
       " {'role': 'patient',\n",
       "  'content': 'No, nothing like that. Just the rash and itching.'},\n",
       " {'role': 'doctor',\n",
       "  'content': 'Alright. Have you had this reaction before? And what other foods have you eaten recently?'},\n",
       " {'role': 'patient',\n",
       "  'content': \"No, this is the first time I've reacted to peanuts. I ate a peanut butter sandwich yesterday and then started getting the rash.\"},\n",
       " {'role': 'doctor',\n",
       "  'content': 'Okay. Do you have any known allergies besides peanuts? Any family history of allergies?'},\n",
       " {'role': 'patient',\n",
       "  'content': \"No, I don't think so. My parents are healthy and don't have any allergies that I know of.\"},\n",
       " {'role': 'doctor',\n",
       "  'content': \"Okay. We need to confirm this is an allergy. I'm going to order some allergy testing for you, including skin prick tests and possibly blood tests. This will help us determine exactly what you are allergic to.\"},\n",
       " {'role': 'patient',\n",
       "  'content': 'Okay, that sounds good. When can I get those tests done?'},\n",
       " {'role': 'doctor',\n",
       "  'content': \"I'll schedule them for you first thing tomorrow morning. In the meantime, please avoid all peanuts and peanut products until we have your test results.\"},\n",
       " {'role': 'patient', 'content': 'Okay, I will. Thank you, Doctor.'},\n",
       " {'role': 'doctor',\n",
       "  'content': \"You're welcome. Please call the office if you have any questions or concerns before your appointment tomorrow.\"}]"
      ]
     },
     "execution_count": 36,
     "metadata": {},
     "output_type": "execute_result"
    }
   ],
   "source": [
    "var = json.loads(json_op_filtered)\n",
    "var"
   ]
  },
  {
   "cell_type": "code",
   "execution_count": 44,
   "id": "36689620",
   "metadata": {},
   "outputs": [
    {
     "data": {
      "text/plain": [
       "{'trial1': [{'role': 'doctor',\n",
       "   'content': 'Good morning, Mr. Jones. What can I do for you today?'},\n",
       "  {'role': 'patient',\n",
       "   'content': \"Hi Doctor, I've been having some strange reactions lately. It started with a rash after eating peanuts.\"},\n",
       "  {'role': 'doctor',\n",
       "   'content': 'Okay, and what kind of reaction was it? Was it itchy, painful, or something else?'},\n",
       "  {'role': 'patient',\n",
       "   'content': 'It was a red, raised rash all over my body. It felt itchy too.'},\n",
       "  {'role': 'doctor',\n",
       "   'content': 'Did you experience any other symptoms like difficulty breathing or swelling?'},\n",
       "  {'role': 'patient',\n",
       "   'content': 'No, nothing like that. Just the rash and itching.'},\n",
       "  {'role': 'doctor',\n",
       "   'content': 'Alright. Have you had this reaction before? And what other foods have you eaten recently?'},\n",
       "  {'role': 'patient',\n",
       "   'content': \"No, this is the first time I've reacted to peanuts. I ate a peanut butter sandwich yesterday and then started getting the rash.\"},\n",
       "  {'role': 'doctor',\n",
       "   'content': 'Okay. Do you have any known allergies besides peanuts? Any family history of allergies?'},\n",
       "  {'role': 'patient',\n",
       "   'content': \"No, I don't think so. My parents are healthy and don't have any allergies that I know of.\"},\n",
       "  {'role': 'doctor',\n",
       "   'content': \"Okay. We need to confirm this is an allergy. I'm going to order some allergy testing for you, including skin prick tests and possibly blood tests. This will help us determine exactly what you are allergic to.\"},\n",
       "  {'role': 'patient',\n",
       "   'content': 'Okay, that sounds good. When can I get those tests done?'},\n",
       "  {'role': 'doctor',\n",
       "   'content': \"I'll schedule them for you first thing tomorrow morning. In the meantime, please avoid all peanuts and peanut products until we have your test results.\"},\n",
       "  {'role': 'patient', 'content': 'Okay, I will. Thank you, Doctor.'},\n",
       "  {'role': 'doctor',\n",
       "   'content': \"You're welcome. Please call the office if you have any questions or concerns before your appointment tomorrow.\"}],\n",
       " 'trial2': [{'role': 'doctor',\n",
       "   'content': 'Good morning, Mr. Jones. What can I do for you today?'},\n",
       "  {'role': 'patient',\n",
       "   'content': \"Hi Doctor, I've been having some strange reactions lately. It started with a rash after eating peanuts.\"},\n",
       "  {'role': 'doctor',\n",
       "   'content': 'Okay, and what kind of reaction was it? Was it itchy, painful, or something else?'},\n",
       "  {'role': 'patient',\n",
       "   'content': 'It was a red, raised rash all over my body. It felt itchy too.'},\n",
       "  {'role': 'doctor',\n",
       "   'content': 'Did you experience any other symptoms like difficulty breathing or swelling?'},\n",
       "  {'role': 'patient',\n",
       "   'content': 'No, nothing like that. Just the rash and itching.'},\n",
       "  {'role': 'doctor',\n",
       "   'content': 'Alright. Have you had this reaction before? And what other foods have you eaten recently?'},\n",
       "  {'role': 'patient',\n",
       "   'content': \"No, this is the first time I've reacted to peanuts. I ate a peanut butter sandwich yesterday and then started getting the rash.\"},\n",
       "  {'role': 'doctor',\n",
       "   'content': 'Okay. Do you have any known allergies besides peanuts? Any family history of allergies?'},\n",
       "  {'role': 'patient',\n",
       "   'content': \"No, I don't think so. My parents are healthy and don't have any allergies that I know of.\"},\n",
       "  {'role': 'doctor',\n",
       "   'content': \"Okay. We need to confirm this is an allergy. I'm going to order some allergy testing for you, including skin prick tests and possibly blood tests. This will help us determine exactly what you are allergic to.\"},\n",
       "  {'role': 'patient',\n",
       "   'content': 'Okay, that sounds good. When can I get those tests done?'},\n",
       "  {'role': 'doctor',\n",
       "   'content': \"I'll schedule them for you first thing tomorrow morning. In the meantime, please avoid all peanuts and peanut products until we have your test results.\"},\n",
       "  {'role': 'patient', 'content': 'Okay, I will. Thank you, Doctor.'},\n",
       "  {'role': 'doctor',\n",
       "   'content': \"You're welcome. Please call the office if you have any questions or concerns before your appointment tomorrow.\"}]}"
      ]
     },
     "execution_count": 44,
     "metadata": {},
     "output_type": "execute_result"
    }
   ],
   "source": [
    "var1 = {}\n",
    "var1['trial1'] = var\n",
    "var1['trial2'] = var\n",
    "var1"
   ]
  },
  {
   "cell_type": "code",
   "execution_count": 45,
   "id": "cf937450",
   "metadata": {},
   "outputs": [],
   "source": [
    "with open(\"dummy.json\", \"w\") as f:\n",
    "    json.dump(var1, f)"
   ]
  },
  {
   "cell_type": "markdown",
   "id": "e7abb14e",
   "metadata": {},
   "source": [
    "# Setting up the pipeline"
   ]
  },
  {
   "cell_type": "code",
   "execution_count": 8,
   "id": "d9a533a2",
   "metadata": {},
   "outputs": [
    {
     "data": {
      "text/plain": [
       "['allergy',\n",
       " 'food allergy',\n",
       " 'asthma',\n",
       " 'contact allergy',\n",
       " 'skin allergy',\n",
       " 'eczema',\n",
       " 'celiac disease',\n",
       " 'malaria',\n",
       " 'impetigo',\n",
       " 'Varicose veins',\n",
       " 'varicose veins',\n",
       " 'diabetes',\n",
       " 'neuropathy',\n",
       " 'acanthosis nigricans',\n",
       " 'hypoglycemia',\n",
       " 'drug allergy',\n",
       " 'dizziness',\n",
       " 'drug rash',\n",
       " 'nausea',\n",
       " 'dry mouth',\n",
       " 'edema',\n",
       " 'Side effect',\n",
       " 'gastroenteritis',\n",
       " 'insomnia',\n",
       " 'weight gain',\n",
       " 'anxiety',\n",
       " 'side effect',\n",
       " 'tremors',\n",
       " 'cardiac arrhythmia',\n",
       " 'photosensitivity',\n",
       " 'headache',\n",
       " 'drug-induced skin reaction',\n",
       " 'Urinary incontinence',\n",
       " 'medication side effect',\n",
       " 'drug reaction',\n",
       " 'drowsiness',\n",
       " 'rash',\n",
       " 'dehydration',\n",
       " 'medication side effects',\n",
       " 'psoriasis',\n",
       " 'dermatitis',\n",
       " 'pneumonia',\n",
       " 'jaundice',\n",
       " 'migraine',\n",
       " 'menstrual migraine',\n",
       " 'UTI',\n",
       " 'urinary_tract_infection',\n",
       " 'arthritis',\n",
       " 'rheumatoid arthritis',\n",
       " 'osteoarthritis',\n",
       " 'back pain',\n",
       " 'peptic ulcer',\n",
       " 'ulcer',\n",
       " 'peptic ulcers',\n",
       " 'gastrointestinal bleed',\n",
       " 'acid reflux',\n",
       " 'cervical spondylosis',\n",
       " 'nerve compression',\n",
       " 'chickenpox',\n",
       " 'typhoid',\n",
       " 'hemorrhoids',\n",
       " 'hemorrhoid',\n",
       " 'hypertension',\n",
       " 'stress',\n",
       " 'white-coat syndrome',\n",
       " 'heart disease',\n",
       " 'orthostatic hypotension',\n",
       " 'nutrition',\n",
       " 'heartburn',\n",
       " 'GERD',\n",
       " 'acne',\n",
       " 'hyperpigmentation',\n",
       " 'acne scars',\n",
       " \"athlete's foot\",\n",
       " 'oral thrush',\n",
       " 'ringworm',\n",
       " 'intertrigo',\n",
       " 'onychomycosis',\n",
       " 'jock itch',\n",
       " 'tinea capitis',\n",
       " 'fungal nail infection',\n",
       " 'fungal infection',\n",
       " 'seborrheic dermatitis',\n",
       " 'tinea versicolor',\n",
       " 'otomycosis',\n",
       " 'angular cheilitis',\n",
       " 'diaper_rash',\n",
       " 'cold',\n",
       " 'sinusitis',\n",
       " 'cough',\n",
       " 'dengue fever']"
      ]
     },
     "execution_count": 8,
     "metadata": {},
     "output_type": "execute_result"
    }
   ],
   "source": [
    "diseases_list"
   ]
  },
  {
   "cell_type": "code",
   "execution_count": null,
   "id": "b7d399f7",
   "metadata": {},
   "outputs": [],
   "source": [
    "specified_disease_list = [\n",
    "    \"gastroenteritis\",\n",
    "    \"osteoarthritis\",\n",
    "    \n",
    "]"
   ]
  },
  {
   "cell_type": "code",
   "execution_count": 7,
   "id": "28edeeef",
   "metadata": {},
   "outputs": [
    {
     "name": "stderr",
     "output_type": "stream",
     "text": [
      "100%|██████████| 10/10 [00:00<00:00, 4007.55it/s]"
     ]
    },
    {
     "name": "stdout",
     "output_type": "stream",
     "text": [
      "allergy\n",
      "food allergy\n",
      "asthma\n",
      "contact allergy\n",
      "skin allergy\n",
      "eczema\n",
      "celiac disease\n",
      "malaria\n",
      "impetigo\n",
      "Varicose veins\n"
     ]
    },
    {
     "name": "stderr",
     "output_type": "stream",
     "text": [
      "\n"
     ]
    }
   ],
   "source": [
    "for disease in tqdm(diseases_list[:10]):\n",
    "    print(disease)"
   ]
  },
  {
   "cell_type": "code",
   "execution_count": 15,
   "id": "59b7598e",
   "metadata": {},
   "outputs": [
    {
     "name": "stderr",
     "output_type": "stream",
     "text": [
      "100%|██████████| 24/24 [32:42<00:00, 81.79s/it] \n"
     ]
    }
   ],
   "source": [
    "medical_conversations = {}\n",
    "for disease in tqdm(diseases_list_trimmed):\n",
    "    if disease not in medical_conversations:\n",
    "        response = client.chat.completions.create(\n",
    "        model=model_name,\n",
    "        messages=[\n",
    "            {\"role\": \"system\", \"content\": system_prompt},\n",
    "            {\"role\": \"user\", \"content\": user_input}\n",
    "            ],\n",
    "        )\n",
    "\n",
    "        med_convo = response.choices[0].message.content\n",
    "        med_convo = med_convo.replace(\"json\", \"\").replace(\"```\", \"\")\n",
    "        medical_conversations[disease] = med_convo\n"
   ]
  },
  {
   "cell_type": "code",
   "execution_count": 21,
   "id": "36861ff5",
   "metadata": {},
   "outputs": [],
   "source": [
    "med_convo_filtered = {}\n",
    "for disease in medical_conversations:\n",
    "    json_op = json.loads(medical_conversations[disease])\n",
    "    med_convo_filtered[disease] = json_op"
   ]
  },
  {
   "cell_type": "code",
   "execution_count": 23,
   "id": "3379d3ec",
   "metadata": {},
   "outputs": [],
   "source": [
    "with open(\"medical_conversation.json\", \"w\") as f:\n",
    "    json.dump(med_convo_filtered, f)"
   ]
  },
  {
   "cell_type": "code",
   "execution_count": null,
   "id": "05f0fa8d",
   "metadata": {},
   "outputs": [],
   "source": []
  }
 ],
 "metadata": {
  "kernelspec": {
   "display_name": "loan-pred",
   "language": "python",
   "name": "python3"
  },
  "language_info": {
   "codemirror_mode": {
    "name": "ipython",
    "version": 3
   },
   "file_extension": ".py",
   "mimetype": "text/x-python",
   "name": "python",
   "nbconvert_exporter": "python",
   "pygments_lexer": "ipython3",
   "version": "3.12.6"
  }
 },
 "nbformat": 4,
 "nbformat_minor": 5
}
